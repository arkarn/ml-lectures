{
 "cells": [
  {
   "cell_type": "markdown",
   "metadata": {},
   "source": [
    "## Importing modules"
   ]
  },
  {
   "cell_type": "code",
   "execution_count": 7,
   "metadata": {},
   "outputs": [],
   "source": [
    "import numpy as np\n",
    "import matplotlib.pyplot as plt\n",
    "from random import shuffle\n",
    "import sklearn\n",
    "from sklearn.datasets import make_blobs\n",
    "from sklearn import datasets\n",
    "from sklearn.cluster import DBSCAN, KMeans\n",
    "import pandas as pd\n",
    "import seaborn as sns\n",
    "from IPython.display import display\n",
    "\n",
    "try:\n",
    "    import ipywidgets as widgets\n",
    "    from ipywidgets import interact, interact_manual\n",
    "except:\n",
    "    !pip install ipywidgets\n",
    "    !jupyter nbextension enable --py widgetsnbextension\n",
    "    import ipywidgets as widgets\n",
    "    from ipywidgets import interact, interact_manual\n"
   ]
  },
  {
   "cell_type": "markdown",
   "metadata": {},
   "source": [
    "## ML model"
   ]
  },
  {
   "cell_type": "code",
   "execution_count": 14,
   "metadata": {},
   "outputs": [],
   "source": [
    "def fit_clusters(x, model):\n",
    "    model.fit(x)\n",
    "    sns.scatterplot(x[:,0], x[:,1], hue=model.labels_, palette='Accent', legend=0)\n",
    "\n",
    "    "
   ]
  },
  {
   "cell_type": "markdown",
   "metadata": {},
   "source": [
    "## Generate and plot random data"
   ]
  },
  {
   "cell_type": "code",
   "execution_count": 15,
   "metadata": {},
   "outputs": [],
   "source": [
    "def generate_random_clustered_data(n_samples, centers, n_features=2, random_state=None):\n",
    "    x, y = make_blobs(n_samples=n_samples, centers=centers, n_features=n_features, random_state=random_state)\n",
    "    return x, y"
   ]
  },
  {
   "cell_type": "code",
   "execution_count": 16,
   "metadata": {},
   "outputs": [
    {
     "data": {
      "application/vnd.jupyter.widget-view+json": {
       "model_id": "93be26d9a6c04f0c99366308e68e7a05",
       "version_major": 2,
       "version_minor": 0
      },
      "text/plain": [
       "interactive(children=(IntSlider(value=500, description='n_samples', max=1000), IntSlider(value=3, description=…"
      ]
     },
     "metadata": {},
     "output_type": "display_data"
    }
   ],
   "source": [
    "x = None\n",
    "@interact\n",
    "def generate_clusters(n_samples= (0, 1000, 1), \n",
    "                      n_clusters = (1, 5, 1), \n",
    "                     ):\n",
    "    global x\n",
    "    x, y = generate_random_clustered_data(n_samples=n_samples, centers=n_clusters, n_features=2)\n",
    "    sns.set(rc={'figure.figsize':(10, 8)})\n",
    "    sns.scatterplot(x[:,0], x[:,1], hue=y, palette='Accent', legend='full')"
   ]
  },
  {
   "cell_type": "markdown",
   "metadata": {},
   "source": [
    "## Playing with clustering"
   ]
  },
  {
   "cell_type": "code",
   "execution_count": 17,
   "metadata": {},
   "outputs": [
    {
     "data": {
      "application/vnd.jupyter.widget-view+json": {
       "model_id": "22eecf1797fa4d8fbb4a79297ad27e61",
       "version_major": 2,
       "version_minor": 0
      },
      "text/plain": [
       "interactive(children=(Dropdown(description='algorithm', options=('kmeans', 'DBSCAN'), value='kmeans'), IntSlid…"
      ]
     },
     "metadata": {},
     "output_type": "display_data"
    }
   ],
   "source": [
    "sns.set(rc={'figure.figsize':(10, 8)})\n",
    "@interact\n",
    "def interact_and_plot(\n",
    "                      algorithm = ['kmeans', 'DBSCAN'],\n",
    "                      k_for_kmeans = (1,5,1),\n",
    "                      epsilon_for_DBSCAN = (1,10,1)\n",
    "                     ):\n",
    "    if algorithm == 'kmeans':\n",
    "        k = k_for_kmeans\n",
    "        kmeans = KMeans(n_clusters=k)\n",
    "        fit_clusters(x, kmeans)\n",
    "    if algorithm == 'DBSCAN':\n",
    "        dbscan = DBSCAN(eps = epsilon_for_DBSCAN)\n",
    "        fit_clusters(x, dbscan)\n",
    "\n",
    "    "
   ]
  },
  {
   "cell_type": "code",
   "execution_count": null,
   "metadata": {},
   "outputs": [],
   "source": []
  }
 ],
 "metadata": {
  "kernelspec": {
   "display_name": "Python 3",
   "language": "python",
   "name": "python3"
  },
  "language_info": {
   "codemirror_mode": {
    "name": "ipython",
    "version": 3
   },
   "file_extension": ".py",
   "mimetype": "text/x-python",
   "name": "python",
   "nbconvert_exporter": "python",
   "pygments_lexer": "ipython3",
   "version": "3.7.4"
  }
 },
 "nbformat": 4,
 "nbformat_minor": 2
}
