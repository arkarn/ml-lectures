{
 "cells": [
  {
   "cell_type": "code",
   "execution_count": 4,
   "metadata": {},
   "outputs": [],
   "source": [
    "import numpy as np\n",
    "import matplotlib.pyplot as plt\n",
    "from random import shuffle\n",
    "import sklearn\n",
    "from sklearn.linear_model import LinearRegression\n",
    "from sklearn.preprocessing import PolynomialFeatures  \n",
    "from sklearn import datasets\n",
    "import pandas as pd\n",
    "import seaborn as sns\n",
    "from IPython.display import display\n",
    "sns.set(rc={'figure.figsize':(15, 10)})\n",
    "try:\n",
    "    import ipywidgets as widgets\n",
    "    from ipywidgets import interact, interact_manual\n",
    "except:\n",
    "    !pip install ipywidgets\n",
    "    !jupyter nbextension enable --py widgetsnbextension\n",
    "    import ipywidgets as widgets\n",
    "    from ipywidgets import interact, interact_manual\n"
   ]
  },
  {
   "cell_type": "code",
   "execution_count": 71,
   "metadata": {},
   "outputs": [],
   "source": [
    "def generate_random_linear_data(n_samples, n_features, noise, bias):\n",
    "    x, y = sklearn.datasets.make_regression(n_samples=n_samples, n_features=n_features, noise=noise, bias=bias)\n",
    "#     plt.scatter(x.flatten(), y.flatten())\n",
    "#     plt.title(\"Data generated\")\n",
    "#     plt.xlabel(\"X\",fontsize=13)\n",
    "#     plt.ylabel(\"y\",fontsize=13)\n",
    "    return x, y"
   ]
  },
  {
   "cell_type": "code",
   "execution_count": 72,
   "metadata": {},
   "outputs": [],
   "source": [
    "x, y = generate_random_linear_data(n_samples=80, n_features=1, noise=10, bias=10)"
   ]
  },
  {
   "cell_type": "code",
   "execution_count": 100,
   "metadata": {},
   "outputs": [],
   "source": [
    "def fit_linear_model(x, y):\n",
    "    model = LinearRegression()\n",
    "    model.fit(x, y)\n",
    "    plt.scatter(x, y, color='g')\n",
    "    plt.plot(x, model.predict(x), color='k')\n",
    "    \n",
    "def fit_non_linear_model(x, y):\n",
    "    x_poly = poly_features.fit_transform(x)\n",
    "    poly_model = LinearRegression()  \n",
    "    poly_model.fit(x_poly, y)\n",
    "    pred = poly_model.predict(x_poly)\n",
    "    new_X, new_y = zip(*sorted(zip(x, pred))) # sort values for plotting\n",
    "    plt.scatter(x, y)\n",
    "    plt.plot(new_X, new_y, color='k')\n",
    "    "
   ]
  },
  {
   "cell_type": "code",
   "execution_count": 101,
   "metadata": {},
   "outputs": [
    {
     "data": {
      "application/vnd.jupyter.widget-view+json": {
       "model_id": "7d22b59792f843adb0c1b51325f341e7",
       "version_major": 2,
       "version_minor": 0
      },
      "text/plain": [
       "interactive(children=(IntSlider(value=2, description='degree', max=3, min=1), IntSlider(value=500, description…"
      ]
     },
     "metadata": {},
     "output_type": "display_data"
    }
   ],
   "source": [
    "@interact\n",
    "def interact_and_plot(degree = (1, 3, 1), n_samples=(0, 1000, 1), n_features=(1,1,1), noise=(0,100,1), bias=(-100,100,1)):\n",
    "    x, y = generate_random_linear_data(n_samples=n_samples, n_features=n_features, noise=noise, bias=bias)\n",
    "    y = y**degree\n",
    "    if degree == 1:\n",
    "        fit_linear_model(x, y)\n",
    "    else:\n",
    "        fit_non_linear_model(x, y)\n",
    "    "
   ]
  },
  {
   "cell_type": "code",
   "execution_count": null,
   "metadata": {},
   "outputs": [],
   "source": []
  },
  {
   "cell_type": "code",
   "execution_count": null,
   "metadata": {},
   "outputs": [],
   "source": []
  },
  {
   "cell_type": "code",
   "execution_count": null,
   "metadata": {},
   "outputs": [],
   "source": []
  }
 ],
 "metadata": {
  "kernelspec": {
   "display_name": "Python 3",
   "language": "python",
   "name": "python3"
  },
  "language_info": {
   "codemirror_mode": {
    "name": "ipython",
    "version": 3
   },
   "file_extension": ".py",
   "mimetype": "text/x-python",
   "name": "python",
   "nbconvert_exporter": "python",
   "pygments_lexer": "ipython3",
   "version": "3.7.4"
  }
 },
 "nbformat": 4,
 "nbformat_minor": 2
}
